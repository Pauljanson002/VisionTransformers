{
 "cells": [
  {
   "cell_type": "code",
   "execution_count": 1,
   "outputs": [],
   "source": [
    "from models import create_model\n",
    "\n"
   ],
   "metadata": {
    "collapsed": false,
    "pycharm": {
     "name": "#%%\n",
     "is_executing": false
    }
   }
  },
  {
   "cell_type": "code",
   "execution_count": 3,
   "outputs": [],
   "source": [
    "model = create_model('vit_lite')"
   ],
   "metadata": {
    "collapsed": false,
    "pycharm": {
     "name": "#%%\n",
     "is_executing": false
    }
   }
  },
  {
   "cell_type": "code",
   "execution_count": 4,
   "outputs": [
    {
     "name": "stdout",
     "text": [
      "ViTLite(\n",
      "  (tokenizer): Tokenizer(\n",
      "    (conv_layers): Sequential(\n",
      "      (0): Sequential(\n",
      "        (0): Conv2d(3, 256, kernel_size=(4, 4), stride=(4, 4))\n",
      "        (1): Identity()\n",
      "        (2): Identity()\n",
      "      )\n",
      "    )\n",
      "    (flattener): Flatten(start_dim=2, end_dim=3)\n",
      "  )\n",
      "  (classifier): Transformer(\n",
      "    (dropout): Dropout(p=0.1, inplace=False)\n",
      "    (blocks): ModuleList(\n",
      "      (0): TransformerEncoder(\n",
      "        (pre_norm): LayerNorm((256,), eps=1e-05, elementwise_affine=True)\n",
      "        (self_attn): Attention(\n",
      "          (qkv): Linear(in_features=256, out_features=768, bias=False)\n",
      "          (attn_drop): Dropout(p=0.0, inplace=False)\n",
      "          (proj): Linear(in_features=256, out_features=256, bias=True)\n",
      "          (proj_drop): Dropout(p=0.1, inplace=False)\n",
      "        )\n",
      "        (linear1): Linear(in_features=256, out_features=512, bias=True)\n",
      "        (dropout1): Dropout(p=0.1, inplace=False)\n",
      "        (norm1): LayerNorm((256,), eps=1e-05, elementwise_affine=True)\n",
      "        (linear2): Linear(in_features=512, out_features=256, bias=True)\n",
      "        (dropout2): Dropout(p=0.1, inplace=False)\n",
      "        (drop_path): Identity()\n",
      "      )\n",
      "      (1): TransformerEncoder(\n",
      "        (pre_norm): LayerNorm((256,), eps=1e-05, elementwise_affine=True)\n",
      "        (self_attn): Attention(\n",
      "          (qkv): Linear(in_features=256, out_features=768, bias=False)\n",
      "          (attn_drop): Dropout(p=0.0, inplace=False)\n",
      "          (proj): Linear(in_features=256, out_features=256, bias=True)\n",
      "          (proj_drop): Dropout(p=0.1, inplace=False)\n",
      "        )\n",
      "        (linear1): Linear(in_features=256, out_features=512, bias=True)\n",
      "        (dropout1): Dropout(p=0.1, inplace=False)\n",
      "        (norm1): LayerNorm((256,), eps=1e-05, elementwise_affine=True)\n",
      "        (linear2): Linear(in_features=512, out_features=256, bias=True)\n",
      "        (dropout2): Dropout(p=0.1, inplace=False)\n",
      "        (drop_path): Identity()\n",
      "      )\n",
      "      (2): TransformerEncoder(\n",
      "        (pre_norm): LayerNorm((256,), eps=1e-05, elementwise_affine=True)\n",
      "        (self_attn): Attention(\n",
      "          (qkv): Linear(in_features=256, out_features=768, bias=False)\n",
      "          (attn_drop): Dropout(p=0.0, inplace=False)\n",
      "          (proj): Linear(in_features=256, out_features=256, bias=True)\n",
      "          (proj_drop): Dropout(p=0.1, inplace=False)\n",
      "        )\n",
      "        (linear1): Linear(in_features=256, out_features=512, bias=True)\n",
      "        (dropout1): Dropout(p=0.1, inplace=False)\n",
      "        (norm1): LayerNorm((256,), eps=1e-05, elementwise_affine=True)\n",
      "        (linear2): Linear(in_features=512, out_features=256, bias=True)\n",
      "        (dropout2): Dropout(p=0.1, inplace=False)\n",
      "        (drop_path): Identity()\n",
      "      )\n",
      "      (3): TransformerEncoder(\n",
      "        (pre_norm): LayerNorm((256,), eps=1e-05, elementwise_affine=True)\n",
      "        (self_attn): Attention(\n",
      "          (qkv): Linear(in_features=256, out_features=768, bias=False)\n",
      "          (attn_drop): Dropout(p=0.0, inplace=False)\n",
      "          (proj): Linear(in_features=256, out_features=256, bias=True)\n",
      "          (proj_drop): Dropout(p=0.1, inplace=False)\n",
      "        )\n",
      "        (linear1): Linear(in_features=256, out_features=512, bias=True)\n",
      "        (dropout1): Dropout(p=0.1, inplace=False)\n",
      "        (norm1): LayerNorm((256,), eps=1e-05, elementwise_affine=True)\n",
      "        (linear2): Linear(in_features=512, out_features=256, bias=True)\n",
      "        (dropout2): Dropout(p=0.1, inplace=False)\n",
      "        (drop_path): Identity()\n",
      "      )\n",
      "      (4): TransformerEncoder(\n",
      "        (pre_norm): LayerNorm((256,), eps=1e-05, elementwise_affine=True)\n",
      "        (self_attn): Attention(\n",
      "          (qkv): Linear(in_features=256, out_features=768, bias=False)\n",
      "          (attn_drop): Dropout(p=0.0, inplace=False)\n",
      "          (proj): Linear(in_features=256, out_features=256, bias=True)\n",
      "          (proj_drop): Dropout(p=0.1, inplace=False)\n",
      "        )\n",
      "        (linear1): Linear(in_features=256, out_features=512, bias=True)\n",
      "        (dropout1): Dropout(p=0.1, inplace=False)\n",
      "        (norm1): LayerNorm((256,), eps=1e-05, elementwise_affine=True)\n",
      "        (linear2): Linear(in_features=512, out_features=256, bias=True)\n",
      "        (dropout2): Dropout(p=0.1, inplace=False)\n",
      "        (drop_path): Identity()\n",
      "      )\n",
      "      (5): TransformerEncoder(\n",
      "        (pre_norm): LayerNorm((256,), eps=1e-05, elementwise_affine=True)\n",
      "        (self_attn): Attention(\n",
      "          (qkv): Linear(in_features=256, out_features=768, bias=False)\n",
      "          (attn_drop): Dropout(p=0.0, inplace=False)\n",
      "          (proj): Linear(in_features=256, out_features=256, bias=True)\n",
      "          (proj_drop): Dropout(p=0.1, inplace=False)\n",
      "        )\n",
      "        (linear1): Linear(in_features=256, out_features=512, bias=True)\n",
      "        (dropout1): Dropout(p=0.1, inplace=False)\n",
      "        (norm1): LayerNorm((256,), eps=1e-05, elementwise_affine=True)\n",
      "        (linear2): Linear(in_features=512, out_features=256, bias=True)\n",
      "        (dropout2): Dropout(p=0.1, inplace=False)\n",
      "        (drop_path): Identity()\n",
      "      )\n",
      "      (6): TransformerEncoder(\n",
      "        (pre_norm): LayerNorm((256,), eps=1e-05, elementwise_affine=True)\n",
      "        (self_attn): Attention(\n",
      "          (qkv): Linear(in_features=256, out_features=768, bias=False)\n",
      "          (attn_drop): Dropout(p=0.0, inplace=False)\n",
      "          (proj): Linear(in_features=256, out_features=256, bias=True)\n",
      "          (proj_drop): Dropout(p=0.1, inplace=False)\n",
      "        )\n",
      "        (linear1): Linear(in_features=256, out_features=512, bias=True)\n",
      "        (dropout1): Dropout(p=0.1, inplace=False)\n",
      "        (norm1): LayerNorm((256,), eps=1e-05, elementwise_affine=True)\n",
      "        (linear2): Linear(in_features=512, out_features=256, bias=True)\n",
      "        (dropout2): Dropout(p=0.1, inplace=False)\n",
      "        (drop_path): Identity()\n",
      "      )\n",
      "    )\n",
      "    (norm): LayerNorm((256,), eps=1e-05, elementwise_affine=True)\n",
      "    (fc): Linear(in_features=256, out_features=10, bias=True)\n",
      "  )\n",
      ")\n"
     ],
     "output_type": "stream"
    }
   ],
   "source": [
    "print(model)"
   ],
   "metadata": {
    "collapsed": false,
    "pycharm": {
     "name": "#%%\n",
     "is_executing": false
    }
   }
  },
  {
   "cell_type": "code",
   "execution_count": 7,
   "outputs": [],
   "source": [
    "model.classifier.blocks = model.classifier.blocks[:6]"
   ],
   "metadata": {
    "collapsed": false,
    "pycharm": {
     "name": "#%%\n",
     "is_executing": false
    }
   }
  },
  {
   "cell_type": "code",
   "execution_count": 8,
   "outputs": [
    {
     "name": "stdout",
     "text": [
      "ViTLite(\n",
      "  (tokenizer): Tokenizer(\n",
      "    (conv_layers): Sequential(\n",
      "      (0): Sequential(\n",
      "        (0): Conv2d(3, 256, kernel_size=(4, 4), stride=(4, 4))\n",
      "        (1): Identity()\n",
      "        (2): Identity()\n",
      "      )\n",
      "    )\n",
      "    (flattener): Flatten(start_dim=2, end_dim=3)\n",
      "  )\n",
      "  (classifier): Transformer(\n",
      "    (dropout): Dropout(p=0.1, inplace=False)\n",
      "    (blocks): ModuleList(\n",
      "      (0): TransformerEncoder(\n",
      "        (pre_norm): LayerNorm((256,), eps=1e-05, elementwise_affine=True)\n",
      "        (self_attn): Attention(\n",
      "          (qkv): Linear(in_features=256, out_features=768, bias=False)\n",
      "          (attn_drop): Dropout(p=0.0, inplace=False)\n",
      "          (proj): Linear(in_features=256, out_features=256, bias=True)\n",
      "          (proj_drop): Dropout(p=0.1, inplace=False)\n",
      "        )\n",
      "        (linear1): Linear(in_features=256, out_features=512, bias=True)\n",
      "        (dropout1): Dropout(p=0.1, inplace=False)\n",
      "        (norm1): LayerNorm((256,), eps=1e-05, elementwise_affine=True)\n",
      "        (linear2): Linear(in_features=512, out_features=256, bias=True)\n",
      "        (dropout2): Dropout(p=0.1, inplace=False)\n",
      "        (drop_path): Identity()\n",
      "      )\n",
      "      (1): TransformerEncoder(\n",
      "        (pre_norm): LayerNorm((256,), eps=1e-05, elementwise_affine=True)\n",
      "        (self_attn): Attention(\n",
      "          (qkv): Linear(in_features=256, out_features=768, bias=False)\n",
      "          (attn_drop): Dropout(p=0.0, inplace=False)\n",
      "          (proj): Linear(in_features=256, out_features=256, bias=True)\n",
      "          (proj_drop): Dropout(p=0.1, inplace=False)\n",
      "        )\n",
      "        (linear1): Linear(in_features=256, out_features=512, bias=True)\n",
      "        (dropout1): Dropout(p=0.1, inplace=False)\n",
      "        (norm1): LayerNorm((256,), eps=1e-05, elementwise_affine=True)\n",
      "        (linear2): Linear(in_features=512, out_features=256, bias=True)\n",
      "        (dropout2): Dropout(p=0.1, inplace=False)\n",
      "        (drop_path): Identity()\n",
      "      )\n",
      "      (2): TransformerEncoder(\n",
      "        (pre_norm): LayerNorm((256,), eps=1e-05, elementwise_affine=True)\n",
      "        (self_attn): Attention(\n",
      "          (qkv): Linear(in_features=256, out_features=768, bias=False)\n",
      "          (attn_drop): Dropout(p=0.0, inplace=False)\n",
      "          (proj): Linear(in_features=256, out_features=256, bias=True)\n",
      "          (proj_drop): Dropout(p=0.1, inplace=False)\n",
      "        )\n",
      "        (linear1): Linear(in_features=256, out_features=512, bias=True)\n",
      "        (dropout1): Dropout(p=0.1, inplace=False)\n",
      "        (norm1): LayerNorm((256,), eps=1e-05, elementwise_affine=True)\n",
      "        (linear2): Linear(in_features=512, out_features=256, bias=True)\n",
      "        (dropout2): Dropout(p=0.1, inplace=False)\n",
      "        (drop_path): Identity()\n",
      "      )\n",
      "      (3): TransformerEncoder(\n",
      "        (pre_norm): LayerNorm((256,), eps=1e-05, elementwise_affine=True)\n",
      "        (self_attn): Attention(\n",
      "          (qkv): Linear(in_features=256, out_features=768, bias=False)\n",
      "          (attn_drop): Dropout(p=0.0, inplace=False)\n",
      "          (proj): Linear(in_features=256, out_features=256, bias=True)\n",
      "          (proj_drop): Dropout(p=0.1, inplace=False)\n",
      "        )\n",
      "        (linear1): Linear(in_features=256, out_features=512, bias=True)\n",
      "        (dropout1): Dropout(p=0.1, inplace=False)\n",
      "        (norm1): LayerNorm((256,), eps=1e-05, elementwise_affine=True)\n",
      "        (linear2): Linear(in_features=512, out_features=256, bias=True)\n",
      "        (dropout2): Dropout(p=0.1, inplace=False)\n",
      "        (drop_path): Identity()\n",
      "      )\n",
      "      (4): TransformerEncoder(\n",
      "        (pre_norm): LayerNorm((256,), eps=1e-05, elementwise_affine=True)\n",
      "        (self_attn): Attention(\n",
      "          (qkv): Linear(in_features=256, out_features=768, bias=False)\n",
      "          (attn_drop): Dropout(p=0.0, inplace=False)\n",
      "          (proj): Linear(in_features=256, out_features=256, bias=True)\n",
      "          (proj_drop): Dropout(p=0.1, inplace=False)\n",
      "        )\n",
      "        (linear1): Linear(in_features=256, out_features=512, bias=True)\n",
      "        (dropout1): Dropout(p=0.1, inplace=False)\n",
      "        (norm1): LayerNorm((256,), eps=1e-05, elementwise_affine=True)\n",
      "        (linear2): Linear(in_features=512, out_features=256, bias=True)\n",
      "        (dropout2): Dropout(p=0.1, inplace=False)\n",
      "        (drop_path): Identity()\n",
      "      )\n",
      "      (5): TransformerEncoder(\n",
      "        (pre_norm): LayerNorm((256,), eps=1e-05, elementwise_affine=True)\n",
      "        (self_attn): Attention(\n",
      "          (qkv): Linear(in_features=256, out_features=768, bias=False)\n",
      "          (attn_drop): Dropout(p=0.0, inplace=False)\n",
      "          (proj): Linear(in_features=256, out_features=256, bias=True)\n",
      "          (proj_drop): Dropout(p=0.1, inplace=False)\n",
      "        )\n",
      "        (linear1): Linear(in_features=256, out_features=512, bias=True)\n",
      "        (dropout1): Dropout(p=0.1, inplace=False)\n",
      "        (norm1): LayerNorm((256,), eps=1e-05, elementwise_affine=True)\n",
      "        (linear2): Linear(in_features=512, out_features=256, bias=True)\n",
      "        (dropout2): Dropout(p=0.1, inplace=False)\n",
      "        (drop_path): Identity()\n",
      "      )\n",
      "    )\n",
      "    (norm): LayerNorm((256,), eps=1e-05, elementwise_affine=True)\n",
      "    (fc): Linear(in_features=256, out_features=10, bias=True)\n",
      "  )\n",
      ")\n"
     ],
     "output_type": "stream"
    }
   ],
   "source": [
    "print(model)"
   ],
   "metadata": {
    "collapsed": false,
    "pycharm": {
     "name": "#%%\n",
     "is_executing": false
    }
   }
  },
  {
   "cell_type": "code",
   "execution_count": 10,
   "outputs": [
    {
     "traceback": [
      "\u001b[1;31m---------------------------------------------------------------------------\u001b[0m",
      "\u001b[1;31mRuntimeError\u001b[0m                              Traceback (most recent call last)",
      "\u001b[1;32m<ipython-input-10-dde0851e96bf>\u001b[0m in \u001b[0;36m<module>\u001b[1;34m\u001b[0m\n\u001b[0;32m      1\u001b[0m \u001b[1;32mimport\u001b[0m \u001b[0mtorch\u001b[0m\u001b[1;33m\u001b[0m\u001b[1;33m\u001b[0m\u001b[0m\n\u001b[1;32m----> 2\u001b[1;33m \u001b[0mmodel\u001b[0m\u001b[1;33m.\u001b[0m\u001b[0mload_state_dict\u001b[0m\u001b[1;33m(\u001b[0m\u001b[0mtorch\u001b[0m\u001b[1;33m.\u001b[0m\u001b[0mload\u001b[0m\u001b[1;33m(\u001b[0m\u001b[1;34m\"../state_dicts/vit_lite_10.pt\"\u001b[0m\u001b[1;33m)\u001b[0m\u001b[1;33m)\u001b[0m\u001b[1;33m\u001b[0m\u001b[1;33m\u001b[0m\u001b[0m\n\u001b[0m\u001b[0;32m      3\u001b[0m \u001b[1;33m\u001b[0m\u001b[0m\n",
      "\u001b[1;32m~\\anaconda3\\lib\\site-packages\\torch\\nn\\modules\\module.py\u001b[0m in \u001b[0;36mload_state_dict\u001b[1;34m(self, state_dict, strict)\u001b[0m\n\u001b[0;32m   1050\u001b[0m         \u001b[1;32mif\u001b[0m \u001b[0mlen\u001b[0m\u001b[1;33m(\u001b[0m\u001b[0merror_msgs\u001b[0m\u001b[1;33m)\u001b[0m \u001b[1;33m>\u001b[0m \u001b[1;36m0\u001b[0m\u001b[1;33m:\u001b[0m\u001b[1;33m\u001b[0m\u001b[1;33m\u001b[0m\u001b[0m\n\u001b[0;32m   1051\u001b[0m             raise RuntimeError('Error(s) in loading state_dict for {}:\\n\\t{}'.format(\n\u001b[1;32m-> 1052\u001b[1;33m                                self.__class__.__name__, \"\\n\\t\".join(error_msgs)))\n\u001b[0m\u001b[0;32m   1053\u001b[0m         \u001b[1;32mreturn\u001b[0m \u001b[0m_IncompatibleKeys\u001b[0m\u001b[1;33m(\u001b[0m\u001b[0mmissing_keys\u001b[0m\u001b[1;33m,\u001b[0m \u001b[0munexpected_keys\u001b[0m\u001b[1;33m)\u001b[0m\u001b[1;33m\u001b[0m\u001b[1;33m\u001b[0m\u001b[0m\n\u001b[0;32m   1054\u001b[0m \u001b[1;33m\u001b[0m\u001b[0m\n",
      "\u001b[1;31mRuntimeError\u001b[0m: Error(s) in loading state_dict for ViTLite:\n\tUnexpected key(s) in state_dict: \"classifier.blocks.6.pre_norm.weight\", \"classifier.blocks.6.pre_norm.bias\", \"classifier.blocks.6.self_attn.qkv.weight\", \"classifier.blocks.6.self_attn.proj.weight\", \"classifier.blocks.6.self_attn.proj.bias\", \"classifier.blocks.6.linear1.weight\", \"classifier.blocks.6.linear1.bias\", \"classifier.blocks.6.norm1.weight\", \"classifier.blocks.6.norm1.bias\", \"classifier.blocks.6.linear2.weight\", \"classifier.blocks.6.linear2.bias\". "
     ],
     "ename": "RuntimeError",
     "evalue": "Error(s) in loading state_dict for ViTLite:\n\tUnexpected key(s) in state_dict: \"classifier.blocks.6.pre_norm.weight\", \"classifier.blocks.6.pre_norm.bias\", \"classifier.blocks.6.self_attn.qkv.weight\", \"classifier.blocks.6.self_attn.proj.weight\", \"classifier.blocks.6.self_attn.proj.bias\", \"classifier.blocks.6.linear1.weight\", \"classifier.blocks.6.linear1.bias\", \"classifier.blocks.6.norm1.weight\", \"classifier.blocks.6.norm1.bias\", \"classifier.blocks.6.linear2.weight\", \"classifier.blocks.6.linear2.bias\". ",
     "output_type": "error"
    }
   ],
   "source": [
    "import torch\n",
    "model.load_state_dict(torch.load(\"../state_dicts/vit_lite_10.pt\"))"
   ],
   "metadata": {
    "collapsed": false,
    "pycharm": {
     "name": "#%%\n",
     "is_executing": false
    }
   }
  },
  {
   "cell_type": "code",
   "execution_count": 32,
   "outputs": [],
   "source": [
    "import numpy as np\n",
    "x = np.array([i for i in range(1,11)])"
   ],
   "metadata": {
    "collapsed": false,
    "pycharm": {
     "name": "#%%\n",
     "is_executing": false
    }
   }
  },
  {
   "cell_type": "code",
   "execution_count": 33,
   "outputs": [
    {
     "data": {
      "text/plain": "array([ 1,  2,  3,  4,  5,  6,  7,  8,  9, 10])"
     },
     "metadata": {},
     "output_type": "execute_result",
     "execution_count": 33
    }
   ],
   "source": [
    "x"
   ],
   "metadata": {
    "collapsed": false,
    "pycharm": {
     "name": "#%%\n",
     "is_executing": false
    }
   }
  },
  {
   "cell_type": "code",
   "execution_count": 40,
   "outputs": [],
   "source": [
    "y = 2*x\n",
    "z = x"
   ],
   "metadata": {
    "collapsed": false,
    "pycharm": {
     "name": "#%%\n",
     "is_executing": false
    }
   }
  },
  {
   "cell_type": "code",
   "execution_count": 41,
   "outputs": [
    {
     "data": {
      "text/plain": "array([ 2,  4,  6,  8, 10, 12, 14, 16, 18, 20])"
     },
     "metadata": {},
     "output_type": "execute_result",
     "execution_count": 41
    }
   ],
   "source": [
    "y"
   ],
   "metadata": {
    "collapsed": false,
    "pycharm": {
     "name": "#%%\n",
     "is_executing": false
    }
   }
  },
  {
   "cell_type": "code",
   "execution_count": 42,
   "outputs": [
    {
     "data": {
      "text/plain": "[<matplotlib.lines.Line2D at 0x24978842508>,\n <matplotlib.lines.Line2D at 0x2497883ee88>]"
     },
     "metadata": {},
     "output_type": "execute_result",
     "execution_count": 42
    },
    {
     "data": {
      "text/plain": "<Figure size 432x288 with 2 Axes>",
      "image/png": "[encoded data removed]"
     },
     "metadata": {
      "needs_background": "light"
     },
     "output_type": "display_data"
    }
   ],
   "source": [
    "import matplotlib.pyplot as plt\n",
    "fig,axes = plt.subplots(2,1)\n",
    "z = x\n",
    "axes[0].plot(x,y,x,z)"
   ],
   "metadata": {
    "collapsed": false,
    "pycharm": {
     "name": "#%%\n",
     "is_executing": false
    }
   }
  },
  {
   "cell_type": "code",
   "execution_count": 44,
   "outputs": [],
   "source": [
    "fig.savefig('./temp.png',dpi = fig.dpi)"
   ],
   "metadata": {
    "collapsed": false,
    "pycharm": {
     "name": "#%%\n",
     "is_executing": false
    }
   }
  },
  {
   "cell_type": "code",
   "execution_count": null,
   "outputs": [],
   "source": [],
   "metadata": {
    "collapsed": false,
    "pycharm": {
     "name": "#%%\n"
    }
   }
  },
  {
   "cell_type": "code",
   "execution_count": 1,
   "outputs": [],
   "source": [
    "y=[0.856500, 0.799700, 0.728200,0.629700,0.543000,0.464900,0.387000]\n",
    "\n"
   ],
   "metadata": {
    "collapsed": false,
    "pycharm": {
     "name": "#%%\n",
     "is_executing": false
    }
   }
  },
  {
   "cell_type": "code",
   "execution_count": 2,
   "outputs": [
    {
     "data": {
      "text/plain": "[0.387, 0.4649, 0.543, 0.6297, 0.7282, 0.7997, 0.8565]"
     },
     "metadata": {},
     "output_type": "execute_result",
     "execution_count": 2
    }
   ],
   "source": [
    "y = y[::-1]\n",
    "y\n",
    "\n"
   ],
   "metadata": {
    "collapsed": false,
    "pycharm": {
     "name": "#%%\n",
     "is_executing": false
    }
   }
  },
  {
   "cell_type": "code",
   "execution_count": 7,
   "outputs": [
    {
     "data": {
      "text/plain": "<matplotlib.legend.Legend at 0x2528b060a08>"
     },
     "metadata": {},
     "output_type": "execute_result",
     "execution_count": 7
    },
    {
     "data": {
      "text/plain": "<Figure size 432x288 with 1 Axes>",
      "image/png": "[encoded data removed]"
     },
     "metadata": {
      "needs_background": "light"
     },
     "output_type": "display_data"
    }
   ],
   "source": [
    "import matplotlib.pyplot as plt\n",
    "plt.ion()\n",
    "x = [i for i in range(1,8)]\n",
    "plt.plot(x,y,'r-',label='Accuracy')\n",
    "plt.xlabel('Layer of transformer')\n",
    "plt.ylabel('Accuracy')\n",
    "plt.legend()\n"
   ],
   "metadata": {
    "collapsed": false,
    "pycharm": {
     "name": "#%%\n",
     "is_executing": false
    }
   }
  },
  {
   "cell_type": "code",
   "execution_count": null,
   "outputs": [],
   "source": [
    "\n"
   ],
   "metadata": {
    "collapsed": false,
    "pycharm": {
     "name": "#%%\n"
    }
   }
  }
 ],
 "metadata": {
  "kernelspec": {
   "name": "python3",
   "language": "python",
   "display_name": "Python 3"
  },
  "language_info": {
   "codemirror_mode": {
    "name": "ipython",
    "version": 2
   },
   "file_extension": ".py",
   "mimetype": "text/x-python",
   "name": "python",
   "nbconvert_exporter": "python",
   "pygments_lexer": "ipython2",
   "version": "2.7.6"
  },
  "pycharm": {
   "stem_cell": {
    "cell_type": "raw",
    "source": [],
    "metadata": {
     "collapsed": false
    }
   }
  }
 },
 "nbformat": 4,
 "nbformat_minor": 0
}